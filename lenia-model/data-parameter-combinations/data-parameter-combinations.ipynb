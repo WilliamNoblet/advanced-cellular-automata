{
 "cells": [
  {
   "cell_type": "code",
   "execution_count": null,
   "id": "ea80cdeb-820d-486a-99f1-e628b2d19962",
   "metadata": {},
   "outputs": [],
   "source": [
    "import numpy as np\n",
    "import itertools\n",
    "import pandas as pd\n",
    "import random\n",
    "import time\n",
    "import scipy.signal as sp\n",
    "from tqdm import tqdm\n",
    "\n",
    "# Définition des plages selon les sliders\n",
    "muK_range      = np.round(np.arange(0.0, 1.01, 0.1), 2)      # μ noyau\n",
    "sigmaK_range   = np.round(np.arange(0.01, 0.51, 0.05), 2)    # σ noyau\n",
    "muG_range      = np.round(np.arange(0.0, 1.01, 0.1), 2)      # μ croissance\n",
    "sigmaG_range   = np.round(np.arange(0.001, 0.101, 0.01), 3)  # σ croissance\n",
    "dt_range       = np.round(np.arange(0.001, 0.301, 0.05), 3)  # Δt\n",
    "R_range        = np.arange(1, 51, 5)                         # R noyau\n",
    "radius_range   = np.arange(1, 101, 10)                       # rayon initial cellule\n",
    "\n",
    "# Produit cartésien de tous les paramètres\n",
    "combinations = list(itertools.product(\n",
    "    muK_range, sigmaK_range,\n",
    "    muG_range, sigmaG_range,\n",
    "    dt_range, R_range, radius_range\n",
    "))\n",
    "\n",
    "# Création du DataFrame\n",
    "columns = ['muK', 'sigmaK', 'muG', 'sigmaG', 'dt', 'R', 'radius']\n",
    "df = pd.DataFrame(combinations, columns=columns)\n",
    "\n",
    "df.insert(0, 'id', range(1, len(df) + 1))\n",
    "\n",
    "df.to_parquet(r'C:\\Users\\User\\OneDrive\\Desktop\\advanced-cellular-automata\\lenia-model\\data-parameter-combinations/parameter-combinations.parquet')\n",
    "\n",
    "#df = pd.read_parquet(r'C:\\Users\\User\\OneDrive\\Desktop\\advanced-cellular-automata\\lenia-model\\data-parameter-combinations/parameter-combinations.parquet')"
   ]
  }
 ],
 "metadata": {
  "kernelspec": {
   "display_name": "Python 3 (ipykernel)",
   "language": "python",
   "name": "python3"
  },
  "language_info": {
   "codemirror_mode": {
    "name": "ipython",
    "version": 3
   },
   "file_extension": ".py",
   "mimetype": "text/x-python",
   "name": "python",
   "nbconvert_exporter": "python",
   "pygments_lexer": "ipython3",
   "version": "3.12.7"
  }
 },
 "nbformat": 4,
 "nbformat_minor": 5
}
